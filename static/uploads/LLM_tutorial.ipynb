{
 "cells": [
  {
   "cell_type": "markdown",
   "metadata": {
    "id": "cw0mGjFFVdXo"
   },
   "source": [
    "# **Getting Started**\n",
    "\n",
    "1. Click the down arrow on the top right corner. Change the Runtime Type to T4 GPU.\n",
    "\n",
    "2. At any point when your GPU is running out of resources, hit Runtime on the top and Restart session. Remember to load all required libraries again.\n",
    "\n",
    "3. Objectives of this workshop:\n",
    "\n",
    "    1. Learn basic LLM pipeline (e.g., zero-shot learning on sentiment detection)\n",
    "    2. Learn how to fine-tune a pre-trained LLM for text classification.\n",
    "    3. (optional) Learn prompt engineering with LLM for text generation.\n",
    "    4. Best practices on using LLMs for social science research.   \n",
    "\n",
    "4. The Transformers library will provide access to pre-trained language models as well as an easy to use pipeline for classification.\n",
    "\n",
    "    Read the [Transformers documentation](https://huggingface.co/docs/transformers/index)\n",
    "\n",
    "    Explore the [repository of pre-trained models](https://huggingface.co/models)"
   ]
  },
  {
   "cell_type": "markdown",
   "metadata": {
    "id": "nLmvO0RIIMjz"
   },
   "source": [
    "# **Section 1: The Basics**\n",
    "\n",
    "*    Large Language Models (LLMs) are neural network–based language models that map text to high-dimensional numeric vectors and are pretrained on massive corpora to predict the next token. This training gives broad linguistic competence and world-knowledge priors; models can be adapted via prompting, fine-tuning, or small task-specific examples.\n",
    "\n",
    "*    LLMs perform classification, summarization, translation, question answering, and controlled generation. Outputs are probabilistic and prompt-sensitive—they reflect learned patterns rather than guaranteed facts.\n",
    "\n",
    "**To illustrate what LLMs do under-the-hood, let's first start with what word embeddings look like.**\n",
    "\n",
    "\n"
   ]
  },
  {
   "cell_type": "code",
   "execution_count": 5,
   "metadata": {
    "executionInfo": {
     "elapsed": 18,
     "status": "ok",
     "timestamp": 1755067580603,
     "user": {
      "displayName": "Valerie Li",
      "userId": "06797467213724952868"
     },
     "user_tz": 240
    },
    "id": "_4NqKEzAVnUB"
   },
   "outputs": [],
   "source": [
    "# load required libraries\n",
    "import pandas as pd\n",
    "import torch\n",
    "from transformers import (pipeline, AutoTokenizer, AutoModelForSequenceClassification,\n",
    "                          DataCollatorWithPadding, get_scheduler, AutoModelForCausalLM)\n",
    "from sklearn.metrics import classification_report\n",
    "import tensorflow_datasets as tfds\n",
    "from sklearn.decomposition import PCA\n",
    "import matplotlib.pyplot as plt\n",
    "from sentence_transformers import SentenceTransformer\n",
    "from datasets import Dataset\n",
    "from torch.utils.data import DataLoader"
   ]
  },
  {
   "cell_type": "markdown",
   "metadata": {
    "id": "UF3lZjWBGuUN"
   },
   "source": [
    "We want to make sure we are using a GPU that is running cuda for fast inference. So here we quickly check to see if one is available. If this prints 'cpu' rather than 'cuda' then change the runtime at the top if running this notebook in collab or double check your computing environment otherwise."
   ]
  },
  {
   "cell_type": "code",
   "execution_count": null,
   "metadata": {
    "colab": {
     "base_uri": "https://localhost:8080/"
    },
    "executionInfo": {
     "elapsed": 12,
     "status": "ok",
     "timestamp": 1755049887539,
     "user": {
      "displayName": "Valerie Li",
      "userId": "06797467213724952868"
     },
     "user_tz": 240
    },
    "id": "UlJBpIy3V4DY",
    "outputId": "bd2101bc-0246-43c7-fb3a-8ca24ed17cbe"
   },
   "outputs": [
    {
     "name": "stdout",
     "output_type": "stream",
     "text": [
      "Device: cuda\n"
     ]
    }
   ],
   "source": [
    "# use GPU if one is available, else CPU\n",
    "device = \"cuda\" if torch.cuda.is_available() else \"cpu\"\n",
    "print(f\"Device: {device}\")"
   ]
  },
  {
   "cell_type": "code",
   "execution_count": null,
   "metadata": {
    "id": "yFrWvJ76JxrD"
   },
   "outputs": [],
   "source": [
    "# Load a small LLM model\n",
    "model = SentenceTransformer('all-MiniLM-L6-v2')\n",
    "\n",
    "# Words or short phrases to embed\n",
    "words = [\"cat\", \"apple\", \"queen\", \"king\"]\n",
    "\n",
    "# Get word embeddings (encoding)\n",
    "embeddings = model.encode(words)"
   ]
  },
  {
   "cell_type": "code",
   "execution_count": null,
   "metadata": {
    "id": "ZHsrdfTGhkZe"
   },
   "outputs": [],
   "source": [
    "print(embeddings.shape)  # (4, 384) -> 4 words, 384 dimensions for each\n",
    "print(embeddings[0])        # show the actual word vectors for \"cat\""
   ]
  },
  {
   "cell_type": "code",
   "execution_count": null,
   "metadata": {
    "colab": {
     "base_uri": "https://localhost:8080/",
     "height": 564
    },
    "executionInfo": {
     "elapsed": 501,
     "status": "ok",
     "timestamp": 1755056755304,
     "user": {
      "displayName": "Valerie Li",
      "userId": "06797467213724952868"
     },
     "user_tz": 300
    },
    "id": "BP1bjzHph6F4",
    "outputId": "d36b302a-d661-4a59-b82e-ed265625867f"
   },
   "outputs": [
    {
     "data": {
      "image/png": "[encoded data removed]",
      "text/plain": [
       "<Figure size 600x600 with 1 Axes>"
      ]
     },
     "metadata": {},
     "output_type": "display_data"
    }
   ],
   "source": [
    "# visualize the words in a 2-D space\n",
    "pca = PCA(n_components=2)\n",
    "emb_2d = pca.fit_transform(embeddings)\n",
    "\n",
    "# Plot the words\n",
    "plt.figure(figsize=(6, 6))\n",
    "for word, (x, y) in zip(words, emb_2d):\n",
    "    plt.scatter(x, y)\n",
    "    plt.text(x + 0.01, y + 0.01, word, fontsize=10)\n",
    "\n",
    "plt.title(\"2 Dimensional Word Embeddings\")\n",
    "plt.xlabel(\"PCA Component 1\")\n",
    "plt.ylabel(\"PCA Component 2\")\n",
    "plt.show()"
   ]
  },
  {
   "cell_type": "markdown",
   "metadata": {
    "id": "gltAV668iaM1"
   },
   "source": [
    "As shown in the figure above, *king* and *queen* are closer together (because they contain similar semantic meaning and are often used together), but *cat* and *apple* are more dispersed. This is considered to be superior than traditional word representation methods (like bag-of-words). From here, we use word embeddings generated by LLMs to perform downstream tasks."
   ]
  },
  {
   "cell_type": "markdown",
   "metadata": {
    "id": "SOK4leW5jtjO"
   },
   "source": [
    "### ✍**Try It Yourself**\n",
    "\n",
    "Try a few different words, modify the above code, and see how they appear on the 2 dimensional plot."
   ]
  },
  {
   "cell_type": "markdown",
   "metadata": {
    "id": "V-aU4ff7H5rx"
   },
   "source": [
    "# **Section 2: Zero-shot classification**\n",
    "\n",
    "A big part of text-as-data approach is to classify texts with pre-determined labels. With the advancement of LLMs, we can now do this with zero-shot classification. This means asking a model to label text into categories it has never been explicitly trained on, without giving it any labeled examples for that task.\n",
    "\n",
    "**Let's see how it works with a simple example. The goal is to classify IMDb movie reviews into either positive or negative reviews.**\n",
    "\n",
    "Here we instantiate our classifier using the pipeline class. This is a fast and easy way to use any model on the Hugging Face Hub."
   ]
  },
  {
   "cell_type": "code",
   "execution_count": null,
   "metadata": {
    "id": "Z_z-WjC3V-Dl"
   },
   "outputs": [],
   "source": [
    "# define a pipeline (zero shot classification) with a huggingface model DeBERTa-v3\n",
    "classifier = pipeline(\"zero-shot-classification\", model=\"MoritzLaurer/DeBERTa-v3-base-mnli-fever-anli\")"
   ]
  },
  {
   "cell_type": "markdown",
   "metadata": {
    "id": "gAL9FJEbHbUE"
   },
   "source": [
    "Now we just prepare our data for classification by placing all of our documents in a list"
   ]
  },
  {
   "cell_type": "code",
   "execution_count": null,
   "metadata": {
    "id": "7D4h5n0qbCvQ"
   },
   "outputs": [],
   "source": [
    "# load the imdb dataset from tensorflow datasets\n",
    "imdb_data = tfds.load(name=\"imdb_reviews\", split=\"all\",\n",
    "                                  batch_size=-1, as_supervised=True)\n",
    "imdb_examples, imdb_labels = tfds.as_numpy(imdb_data)\n",
    "# use a small slice of the imdb data\n",
    "text = [x.decode(\"utf-8\") if isinstance(x, (bytes, bytearray)) else str(x)\n",
    "    for x in imdb_examples[:32]]"
   ]
  },
  {
   "cell_type": "code",
   "execution_count": null,
   "metadata": {
    "id": "4TW2LVUvanu-"
   },
   "outputs": [],
   "source": [
    "sequence_to_classify = text\n",
    "candidate_labels = [\"positive\", \"negative\"] # we manually create two candidate labels: positive or negative\n",
    "output = classifier(sequence_to_classify, candidate_labels, multi_label=False) # tell the model to execute the zero-shot classification process"
   ]
  },
  {
   "cell_type": "code",
   "execution_count": null,
   "metadata": {
    "id": "K6ujm7IGZ1uk"
   },
   "outputs": [],
   "source": [
    "# print the predicted labels with their probability scores (higher means most confident)\n",
    "for i, out in enumerate(output):\n",
    "    print(out[\"labels\"][0], out[\"scores\"][0])"
   ]
  },
  {
   "cell_type": "code",
   "execution_count": null,
   "metadata": {
    "id": "Ji6v7ly0WQ3D"
   },
   "outputs": [],
   "source": [
    "# convert labels back to binary (0,1) and assess model performance (the true labels come from the imdb dataset)\n",
    "pred = pd.DataFrame(output)\n",
    "pred[\"pred_labels\"] = pred[\"labels\"].str[0]\n",
    "label_map = {'positive': 1, 'negative': 0}\n",
    "pred[\"pred_labels\"] = pred[\"pred_labels\"].map(label_map)"
   ]
  },
  {
   "cell_type": "code",
   "execution_count": null,
   "metadata": {
    "colab": {
     "base_uri": "https://localhost:8080/"
    },
    "executionInfo": {
     "elapsed": 46,
     "status": "ok",
     "timestamp": 1755057441790,
     "user": {
      "displayName": "Valerie Li",
      "userId": "06797467213724952868"
     },
     "user_tz": 300
    },
    "id": "5BaGWgeVf2xf",
    "outputId": "d2ff49ec-081a-4995-cc04-141c31ed7a3b"
   },
   "outputs": [
    {
     "name": "stdout",
     "output_type": "stream",
     "text": [
      "              precision    recall  f1-score   support\n",
      "\n",
      "           0       0.76      0.76      0.76        17\n",
      "           1       0.73      0.73      0.73        15\n",
      "\n",
      "    accuracy                           0.75        32\n",
      "   macro avg       0.75      0.75      0.75        32\n",
      "weighted avg       0.75      0.75      0.75        32\n",
      "\n"
     ]
    }
   ],
   "source": [
    "# print the classification report - 0.75 accuracy\n",
    "print(classification_report(imdb_labels[:32], pred[\"pred_labels\"]))"
   ]
  },
  {
   "cell_type": "markdown",
   "metadata": {
    "id": "dp6SzF7EHh3o"
   },
   "source": [
    "As shown above, the classification report shows a 0.75 accuracy on the model's ability to detect positive or negative reviews on IMDb. This is not bad for a baseline approach -- out of 100 reviews, it can correctly detect 75."
   ]
  },
  {
   "cell_type": "markdown",
   "metadata": {
    "id": "PVW2mlJXk5vz"
   },
   "source": [
    "### ✍**Try It Yourself**\n",
    "\n",
    "Now use a few sentences of your own choosing and potential labels, see if the model can classify them correctly. Use the below simplified codes to start."
   ]
  },
  {
   "cell_type": "code",
   "execution_count": null,
   "metadata": {
    "id": "Tjdt22xzhz4B"
   },
   "outputs": [],
   "source": [
    "sequence_to_classify = [\"Sentence 1\", \"Sentence 2\", \"Sentence 3\"]\n",
    "candidate_labels = [\"label 1\", \"label 2\", \"label 3\"]\n",
    "output = classifier(sequence_to_classify, candidate_labels, multi_label=False)"
   ]
  },
  {
   "cell_type": "code",
   "execution_count": null,
   "metadata": {
    "id": "mGaqXfSPmWnG"
   },
   "outputs": [],
   "source": [
    "# print output\n",
    "for i, out in enumerate(output):\n",
    "    print(sequence_to_classify[i], \"-->\", out[\"labels\"][0], out[\"scores\"][0])\n",
    "\n",
    "# are they labeled correctly?"
   ]
  },
  {
   "cell_type": "markdown",
   "metadata": {
    "id": "YN41lcQSxw0n"
   },
   "source": [
    "# **Section 3: Fine-tune a pre-trained LLM using training data**\n",
    "\n",
    "Sometimes, candidate labels are not immediately obvious and you want more customization with how LLMs classify your texts. This is when fine-tuning comes in. A \"gold standard\" dataset is required to fine-tune the model. You provide the model with hand-labeled training data and it will learn from the pattern. The better the training data are, the better the model will perform.\n",
    "\n",
    "Typical Workflow:\n",
    "1. Create/find a (hand) labeled dataset.\n",
    "2. Split it to train and test set.\n",
    "3. Train the model on the training set.\n",
    "4. Test model performance on the test set.\n",
    "5. Adjust model hyper-parameters, add additional layers, etc., until model performance reaches a satisfactory level.\n",
    "5. Make inference using the fine-tuned model."
   ]
  },
  {
   "cell_type": "code",
   "execution_count": null,
   "metadata": {
    "colab": {
     "base_uri": "https://localhost:8080/",
     "height": 81,
     "referenced_widgets": [
      "5589b5cb98cb495882f6c1ff265d6f7b",
      "45e0d34e6cfb463087d52c67f23bd686",
      "d4ef73a65f4b419b98e5aa9ea8e0acd8",
      "b598c555b4744cc9a60a8efc7d8e685c",
      "1ceda5578c834d73b9e2a11ea6c3ac3b",
      "331468078968487b931fc5145fe2f136",
      "6594a32a2b084b4d9428af3654c3b0d7",
      "afebcf1759694f6fb07f39fef5207ac3",
      "61e3acdb3e7e4823acdadf74f5dbd540",
      "a1f190bbec324b339c9abfb49260042e",
      "c1ccecfef77c4be3a9c7bf56527fb75f",
      "ee6209b157b246ba9610ac34121b1eee",
      "e75f691e8d4a4506a59463cd3533707e",
      "84446de4a14a484588c4cc7728d018c3",
      "4b51c5338d504a3aa2ae2c35b973c985",
      "b861dbfa17e54e1db6563dd8537406d3",
      "02dede42abe34e08b3657f662b5fa2e5",
      "ff923b7ee8de445a873cc9e78cad8807",
      "1f45fe6fe0ff49bba595bded6dc890be",
      "e0b03b537d7f465cb6c4a07187d27597",
      "ca2ddd68106e4319b43105e4e7e41fd4",
      "91c76363fccd468081922ca28432f5b9"
     ]
    },
    "executionInfo": {
     "elapsed": 2773,
     "status": "ok",
     "timestamp": 1755061222419,
     "user": {
      "displayName": "Valerie Li",
      "userId": "06797467213724952868"
     },
     "user_tz": 300
    },
    "id": "HCcKA1BBpTVX",
    "outputId": "7db2a1f9-4b08-4d93-a65a-b14d25373eeb"
   },
   "outputs": [
    {
     "data": {
      "application/vnd.jupyter.widget-view+json": {
       "model_id": "5589b5cb98cb495882f6c1ff265d6f7b",
       "version_major": 2,
       "version_minor": 0
      },
      "text/plain": [
       "Map:   0%|          | 0/1000 [00:00<?, ? examples/s]"
      ]
     },
     "metadata": {},
     "output_type": "display_data"
    },
    {
     "data": {
      "application/vnd.jupyter.widget-view+json": {
       "model_id": "ee6209b157b246ba9610ac34121b1eee",
       "version_major": 2,
       "version_minor": 0
      },
      "text/plain": [
       "Map:   0%|          | 0/1000 [00:00<?, ? examples/s]"
      ]
     },
     "metadata": {},
     "output_type": "display_data"
    }
   ],
   "source": [
    "# 1) Load IMDB dataset again (use only first 1,000 rows)\n",
    "train_imdb, test_imdb = tfds.load(\"imdb_reviews\", split=[\"train[:1000]\",\"test[:1000]\"],\n",
    "                              as_supervised=True, batch_size=-1)\n",
    "x_tr, y_tr = tfds.as_numpy(train_imdb)\n",
    "x_te, y_te = tfds.as_numpy(test_imdb)\n",
    "\n",
    "# 2) Convert to Dataset\n",
    "dec = lambda a: [t.decode(\"utf-8\") for t in a]\n",
    "train_ds = Dataset.from_dict({\"text\": dec(x_tr), \"labels\": y_tr.astype(int)})\n",
    "test_ds  = Dataset.from_dict({\"text\": dec(x_te), \"labels\": y_te.astype(int)})\n",
    "\n",
    "# 3) Pre-tokenize\n",
    "model_name = \"microsoft/deberta-v3-base\"\n",
    "tok = AutoTokenizer.from_pretrained(model_name)\n",
    "def tokenize(batch): return tok(batch[\"text\"], truncation=True, max_length=256) # max_length limits the maximum length of each text document to 256 tokens\n",
    "train_tok = train_ds.map(tokenize, batched=True, remove_columns=[\"text\"])\n",
    "test_tok  = test_ds.map(tokenize,  batched=True, remove_columns=[\"text\"])\n",
    "\n",
    "# 4) Set tensor format\n",
    "cols = [\"input_ids\", \"attention_mask\", \"labels\"]\n",
    "train_tok.set_format(type=\"torch\", columns=cols)\n",
    "test_tok.set_format(type=\"torch\", columns=cols)\n",
    "\n",
    "# 5) DataLoader with padding\n",
    "collate = DataCollatorWithPadding(tokenizer=tok)\n",
    "train_dl = DataLoader(train_tok, batch_size=16, shuffle=True,  collate_fn=collate) # batch size is one of the hyper-parameters you can fine-tune.\n",
    "test_dl  = DataLoader(test_tok,  batch_size=32, shuffle=False, collate_fn=collate)"
   ]
  },
  {
   "cell_type": "code",
   "execution_count": null,
   "metadata": {
    "colab": {
     "base_uri": "https://localhost:8080/"
    },
    "executionInfo": {
     "elapsed": 176947,
     "status": "ok",
     "timestamp": 1755061416497,
     "user": {
      "displayName": "Valerie Li",
      "userId": "06797467213724952868"
     },
     "user_tz": 300
    },
    "id": "r7_xBDMpujs3",
    "outputId": "d2f85d88-6407-44fa-ef36-e0d7105435ed"
   },
   "outputs": [
    {
     "name": "stderr",
     "output_type": "stream",
     "text": [
      "Some weights of DebertaV2ForSequenceClassification were not initialized from the model checkpoint at microsoft/deberta-v3-base and are newly initialized: ['classifier.bias', 'classifier.weight', 'pooler.dense.bias', 'pooler.dense.weight']\n",
      "You should probably TRAIN this model on a down-stream task to be able to use it for predictions and inference.\n"
     ]
    },
    {
     "name": "stdout",
     "output_type": "stream",
     "text": [
      "loss: 0.2965\n",
      "loss: 0.0334\n",
      "loss: 0.0299\n"
     ]
    }
   ],
   "source": [
    "# 6) Model, optim, scheduler\n",
    "model = AutoModelForSequenceClassification.from_pretrained(model_name, num_labels=2)  # as before, we want two labels, positive and negative\n",
    "device = torch.device(\"cuda\" if torch.cuda.is_available() else \"cpu\")\n",
    "model.to(device)\n",
    "\n",
    "optimizer = torch.optim.AdamW(model.parameters(), lr=5e-5) # lr stands for learning rate, this is one of the hyper-parameters you can fine-tune.\n",
    "num_epochs = 3 # another hyper-parameter to fine-tune\n",
    "num_steps = num_epochs * len(train_dl)\n",
    "sched = get_scheduler(\"linear\", optimizer=optimizer, num_warmup_steps=0, num_training_steps=num_steps)\n",
    "\n",
    "# 7) Train loop\n",
    "model.train()\n",
    "for _ in range(num_epochs):\n",
    "    for batch in train_dl:\n",
    "        batch = {k: v.to(device) for k, v in batch.items()}\n",
    "        loss = model(**batch).loss\n",
    "        loss.backward()\n",
    "        optimizer.step(); sched.step(); optimizer.zero_grad()\n",
    "    print(f\"loss: {loss.item():.4f}\")\n",
    "\n",
    "# ideally you should see loss decreases as epoch (the number of times you re-train the model) increases"
   ]
  },
  {
   "cell_type": "code",
   "execution_count": null,
   "metadata": {
    "colab": {
     "base_uri": "https://localhost:8080/"
    },
    "executionInfo": {
     "elapsed": 20205,
     "status": "ok",
     "timestamp": 1755061684665,
     "user": {
      "displayName": "Valerie Li",
      "userId": "06797467213724952868"
     },
     "user_tz": 300
    },
    "id": "gnFIo2Yk0JSn",
    "outputId": "cbc77eb8-2566-47c7-a35c-f3b890196d6e"
   },
   "outputs": [
    {
     "name": "stdout",
     "output_type": "stream",
     "text": [
      "              precision    recall  f1-score   support\n",
      "\n",
      "           0       0.91      0.93      0.92       503\n",
      "           1       0.92      0.91      0.92       497\n",
      "\n",
      "    accuracy                           0.92      1000\n",
      "   macro avg       0.92      0.92      0.92      1000\n",
      "weighted avg       0.92      0.92      0.92      1000\n",
      "\n"
     ]
    }
   ],
   "source": [
    "# 8) Evaluate\n",
    "model.eval()\n",
    "all_predictions = []\n",
    "all_labels = []\n",
    "\n",
    "with torch.no_grad():\n",
    "    for batch in test_dl:\n",
    "        batch = {k: v.to(device) for k, v in batch.items()}\n",
    "        preds = model(**batch).logits.argmax(dim=-1)\n",
    "        all_predictions.extend(preds.cpu().numpy())\n",
    "        all_labels.extend(batch[\"labels\"].cpu().numpy())\n",
    "\n",
    "print(classification_report(all_labels, all_predictions))"
   ]
  },
  {
   "cell_type": "markdown",
   "metadata": {
    "id": "NSfqC1U208qA"
   },
   "source": [
    "As you can see in the new classification report, with only N=1000 rows of training data, the accuracy has significantly improved from the 0.75 (zero-shot model) to 0.92 (fine tuned model)"
   ]
  },
  {
   "cell_type": "markdown",
   "metadata": {
    "id": "BpfvW9kgjiLP"
   },
   "source": [
    "# **Section 4: Prompt Engineering with Text Generation Models**\n",
    "\n",
    "If you want more flexibility with what LLMs can do, try LLMs pre-trained with text generation tasks. This is what you typically see with the chatbot style AI, where you give a prompt, and get a full-blown answer as response.\n",
    "\n",
    "Typical Workflow:\n",
    "1. Write a prompt to define the task.\n",
    "2. Loop over the prompt with your list of text documents.\n",
    "3. Store LLM's answer into a dataframe and assess performance.  \n",
    "4. Adjust the prompt and hyper-parameters until performance reaches a satisfactory level.\n",
    "\n",
    "**Let's use a simple example of entity extraction. The goal is to identify the main actor from a short news story. For illustration purpose, we are going to use a super lightweight model Qwen3 0.6B.**\n",
    "\n",
    "Explore what else Qwen3 can do [here](https://huggingface.co/Qwen/Qwen3-0.6B)."
   ]
  },
  {
   "cell_type": "code",
   "execution_count": null,
   "metadata": {
    "id": "uJ6SoLZvnbtX"
   },
   "outputs": [],
   "source": [
    "# load a news archive dataset from tensorflow. Use only the first 10 rows.\n",
    "news_data = tfds.as_numpy(tfds.load(name=\"ag_news_subset\", split=\"all\", batch_size=-1))\n",
    "news_text = news_data[\"description\"]\n",
    "news_text = [d.decode(\"utf-8\") for d in news_text[:10]]"
   ]
  },
  {
   "cell_type": "markdown",
   "metadata": {
    "id": "YWjGDM7uK3sI"
   },
   "source": [
    "Here is what a news story look like:"
   ]
  },
  {
   "cell_type": "code",
   "execution_count": 10,
   "metadata": {
    "colab": {
     "base_uri": "https://localhost:8080/"
    },
    "executionInfo": {
     "elapsed": 16,
     "status": "ok",
     "timestamp": 1755067659208,
     "user": {
      "displayName": "Valerie Li",
      "userId": "06797467213724952868"
     },
     "user_tz": 240
    },
    "id": "QMrRJrbTK7y4",
    "outputId": "aade2cb3-f9c7-48b2-ca1d-688aaa1401f4"
   },
   "outputs": [
    {
     "name": "stdout",
     "output_type": "stream",
     "text": [
      "AMD #39;s new dual-core Opteron chip is designed mainly for corporate computing applications, including databases, Web services, and financial transactions.\n"
     ]
    }
   ],
   "source": [
    "print(news_text[0])"
   ]
  },
  {
   "cell_type": "code",
   "execution_count": null,
   "metadata": {
    "id": "UF7KI374k93E"
   },
   "outputs": [],
   "source": [
    "from transformers.utils import logging\n",
    "logging.set_verbosity_error()\n",
    "model_name = \"Qwen/Qwen3-0.6B\"\n",
    "\n",
    "# Load tokenizer & model\n",
    "tokenizer = AutoTokenizer.from_pretrained(model_name)\n",
    "model = AutoModelForCausalLM.from_pretrained(\n",
    "    model_name,\n",
    "    torch_dtype=\"auto\",\n",
    "    device_map=\"auto\")"
   ]
  },
  {
   "cell_type": "code",
   "execution_count": null,
   "metadata": {
    "id": "PWFdjUDDQwfM"
   },
   "outputs": [],
   "source": [
    "# build the prompt with a chat template\n",
    "def build_prompt(text: str) -> str:\n",
    "    messages = [\n",
    "        {\"role\": \"user\", \"content\":\n",
    "        \"Extract the **single** main actor (person or organization) from the text. \"\n",
    "        'Return JSON ONLY like {\"actor\": \"...\"}; use null if none.\\n\\n'\n",
    "        f\"Text: {text}\\nJSON:\"}\n",
    "    ]\n",
    "    return tokenizer.apply_chat_template(messages, tokenize=False, add_generation_prompt=True,\n",
    "                                         enable_thinking=False) # disabled to omit the \"thinking process\"\n",
    "\n",
    "prompts = [build_prompt(t) for t in news_text]\n",
    "\n",
    "# execute the text-generation pipeline\n",
    "gen = pipeline(\"text-generation\", model=model, tokenizer=tokenizer)\n",
    "outs = gen(prompts,\n",
    "           max_new_tokens=256, # max_new_tokens is the maximum number of new tokens the answer will contain, can be adjusted.\n",
    "           do_sample=False,  # disabled to reduce randomness in the answer (deterministic approach).\n",
    "           return_full_text=False) # disabled to omit the original prompt in the answer.\n",
    "\n",
    "answers = [o[0][\"generated_text\"] for o in outs]\n",
    "\n",
    "# make a dataFrame\n",
    "df = pd.DataFrame({\n",
    "    \"news_text\": news_text,\n",
    "    \"actor\": answers\n",
    "})"
   ]
  },
  {
   "cell_type": "code",
   "execution_count": null,
   "metadata": {
    "colab": {
     "base_uri": "https://localhost:8080/"
    },
    "executionInfo": {
     "elapsed": 6,
     "status": "ok",
     "timestamp": 1755063436531,
     "user": {
      "displayName": "Valerie Li",
      "userId": "06797467213724952868"
     },
     "user_tz": 300
    },
    "id": "KLSrCM-54jvT",
    "outputId": "2d0bb00a-61e6-4212-e207-6ac85b888045"
   },
   "outputs": [
    {
     "name": "stdout",
     "output_type": "stream",
     "text": [
      "                                                                                                                                               news_text  \\\n",
      "0  AMD #39;s new dual-core Opteron chip is designed mainly for corporate computing applications, including databases, Web services, and financial tra...   \n",
      "1  Reuters - Major League Baseball\\Monday announced a decision on the appeal filed by Chicago Cubs\\pitcher Kerry Wood regarding a suspension stemming...   \n",
      "2  President Bush #39;s  quot;revenue-neutral quot; tax reform needs losers to balance its winners, and people claiming the federal deduction for sta...   \n",
      "3                                       Britain will run out of leading scientists unless science education is improved, says Professor Colin Pillinger.   \n",
      "4  London, England (Sports Network) - England midfielder Steven Gerrard injured his groin late in Thursday #39;s training session, but is hopeful he ...   \n",
      "5                                           TOKYO - Sony Corp. is banking on the \\$3 billion deal to acquire Hollywood studio Metro-Goldwyn-Mayer Inc...   \n",
      "6  Giant pandas may well prefer bamboo to laptops, but wireless technology is helping researchers in China in their efforts to protect the engandered...   \n",
      "7  VILNIUS, Lithuania - Lithuania #39;s main parties formed an alliance to try to keep a Russian-born tycoon and his populist promises out of the gov...   \n",
      "8  Witnesses in the trial of a US soldier charged with abusing prisoners at Abu Ghraib have told the court that the CIA sometimes directed abuse and ...   \n",
      "9       Dan Olsen of Ponte Vedra Beach, Fla., shot a 7-under 65 Thursday to take a one-shot lead after two rounds of the PGA Tour qualifying tournament.   \n",
      "\n",
      "                                    actor  \n",
      "0                        {\"actor\": \"AMD\"}  \n",
      "1      {\"actor\": \"Major League Baseball\"}  \n",
      "2             {\"actor\": \"President Bush\"}  \n",
      "3  {\"actor\": \"Professor Colin Pillinger\"}  \n",
      "4             {\"actor\": \"Steven Gerrard\"}  \n",
      "5                 {\"actor\": \"Sony Corp.\"}  \n",
      "6               {\"actor\": \"Giant pandas\"}  \n",
      "7                  {\"actor\": \"Lithuania\"}  \n",
      "8                        {\"actor\": \"CIA\"}  \n",
      "9                  {\"actor\": \"Dan Olsen\"}  \n"
     ]
    }
   ],
   "source": [
    "pd.set_option(\"display.max_colwidth\", 150)\n",
    "# view results\n",
    "print(df)"
   ]
  },
  {
   "cell_type": "markdown",
   "metadata": {
    "id": "IAOljC3w70aw"
   },
   "source": [
    "### ✍**Try It Yourself**\n",
    "\n",
    "Try tweaking the above prompt to extract the main event location of the news story."
   ]
  },
  {
   "cell_type": "markdown",
   "metadata": {
    "id": "Lc1VT9eZWP3y"
   },
   "source": [
    "# **Concluding Remarks**\n",
    "\n",
    "### **Best Practices on Validation: [Argyle et al. (2025)](https://arxiv.org/abs/2504.03822)**\n",
    "\n",
    "**Prior to the start of a study using AI, researchers should:**\n",
    "1. Clearly define the target of inference. Researchers should clearly state what they are hoping to make inferences about and what element of the LLM-empowered research design corresponds to or enables inference about that target.\n",
    "\n",
    "2. Identify one or more standards by which they will determine whether an LLM has successfully completed a needed task. These standards should be specific, tailored to the particular use case, and comprehensive.\n",
    "\n",
    "3. Provide pre-registration showing either a) evidence that a particular combination of model, prompt, and parameters already sufficiently meets the identified standard of success, or b) the standard and process by which the model, prompt, and other parameters will be selected and deemed sufficient for inference.\n",
    "\n",
    "\n",
    "**In reporting post-study data, researchers should:**\n",
    "\n",
    "4. Report the inferential target early in the paper so that this focus and objectives are clear to readers, reviewers, and other social scientists.\n",
    "\n",
    "5. Provide confirmatory evidence that the LLM faithfully completed the particular study task(s) as deployed.\n",
    "\n",
    "6. Report, ideally in the main text of the manuscript, the relevant details of LLM use, including exact models, dates of calls, mode of access,  hyperparameters, and prompts.\n",
    "\n",
    "7. Report, in supplemental information, a summary of significant explorations of other models, prompts, settings, or approaches taken in the process of seeking task success.\n",
    "\n",
    "\n",
    "### **Best Practices on Replication: [Barrie, Palmer and Spirling (2024)](https://arthurspirling.org/documents/BarriePalmerSpirling_TrustMeBro.pdf)**\n",
    "\n",
    "1. **Take replication seriously.** Researchers and journals need to be aware that replication matters for LM work as much as anything else. Don't allow a new/worse \"replication crisis\" to emerge.\n",
    "\n",
    "2. **Consider open models that allow off-line versioning.** LLaMA wasn't always the best performer, but it was very good and allowed almost perfect replication. Consider this when coding in your own work.\n",
    "\n",
    "3. **Justify closed models if they must be used.** Closed models are non-transparent, so explain why we must pay this cost in your case.\n",
    "\n",
    "4. **Work in an “anti-fragile” way.** If you must use closed models, try to reduce the variances in their outputs. Setting temperatures may help, but this is no panacea.\n",
    "\n",
    "5. **Replicate Your Work.** Researchers should run their own routines multiple times, preferable over multiple days or weeks or months and be honest about the variance they observe."
   ]
  }
 ],
 "metadata": {
  "accelerator": "GPU",
  "colab": {
   "authorship_tag": "ABX9TyPXfFIceeCLohjT2vosLmBc",
   "gpuType": "T4",
   "provenance": [],
   "toc_visible": true
  },
  "kernelspec": {
   "display_name": "Python 3",
   "name": "python3"
  },
  "language_info": {
   "name": "python"
  },
  "widgets": {
   "application/vnd.jupyter.widget-state+json": {
    "02dede42abe34e08b3657f662b5fa2e5": {
     "model_module": "@jupyter-widgets/base",
     "model_module_version": "1.2.0",
     "model_name": "LayoutModel",
     "state": {
      "_model_module": "@jupyter-widgets/base",
      "_model_module_version": "1.2.0",
      "_model_name": "LayoutModel",
      "_view_count": null,
      "_view_module": "@jupyter-widgets/base",
      "_view_module_version": "1.2.0",
      "_view_name": "LayoutView",
      "align_content": null,
      "align_items": null,
      "align_self": null,
      "border": null,
      "bottom": null,
      "display": null,
      "flex": null,
      "flex_flow": null,
      "grid_area": null,
      "grid_auto_columns": null,
      "grid_auto_flow": null,
      "grid_auto_rows": null,
      "grid_column": null,
      "grid_gap": null,
      "grid_row": null,
      "grid_template_areas": null,
      "grid_template_columns": null,
      "grid_template_rows": null,
      "height": null,
      "justify_content": null,
      "justify_items": null,
      "left": null,
      "margin": null,
      "max_height": null,
      "max_width": null,
      "min_height": null,
      "min_width": null,
      "object_fit": null,
      "object_position": null,
      "order": null,
      "overflow": null,
      "overflow_x": null,
      "overflow_y": null,
      "padding": null,
      "right": null,
      "top": null,
      "visibility": null,
      "width": null
     }
    },
    "1ceda5578c834d73b9e2a11ea6c3ac3b": {
     "model_module": "@jupyter-widgets/base",
     "model_module_version": "1.2.0",
     "model_name": "LayoutModel",
     "state": {
      "_model_module": "@jupyter-widgets/base",
      "_model_module_version": "1.2.0",
      "_model_name": "LayoutModel",
      "_view_count": null,
      "_view_module": "@jupyter-widgets/base",
      "_view_module_version": "1.2.0",
      "_view_name": "LayoutView",
      "align_content": null,
      "align_items": null,
      "align_self": null,
      "border": null,
      "bottom": null,
      "display": null,
      "flex": null,
      "flex_flow": null,
      "grid_area": null,
      "grid_auto_columns": null,
      "grid_auto_flow": null,
      "grid_auto_rows": null,
      "grid_column": null,
      "grid_gap": null,
      "grid_row": null,
      "grid_template_areas": null,
      "grid_template_columns": null,
      "grid_template_rows": null,
      "height": null,
      "justify_content": null,
      "justify_items": null,
      "left": null,
      "margin": null,
      "max_height": null,
      "max_width": null,
      "min_height": null,
      "min_width": null,
      "object_fit": null,
      "object_position": null,
      "order": null,
      "overflow": null,
      "overflow_x": null,
      "overflow_y": null,
      "padding": null,
      "right": null,
      "top": null,
      "visibility": null,
      "width": null
     }
    },
    "1f45fe6fe0ff49bba595bded6dc890be": {
     "model_module": "@jupyter-widgets/base",
     "model_module_version": "1.2.0",
     "model_name": "LayoutModel",
     "state": {
      "_model_module": "@jupyter-widgets/base",
      "_model_module_version": "1.2.0",
      "_model_name": "LayoutModel",
      "_view_count": null,
      "_view_module": "@jupyter-widgets/base",
      "_view_module_version": "1.2.0",
      "_view_name": "LayoutView",
      "align_content": null,
      "align_items": null,
      "align_self": null,
      "border": null,
      "bottom": null,
      "display": null,
      "flex": null,
      "flex_flow": null,
      "grid_area": null,
      "grid_auto_columns": null,
      "grid_auto_flow": null,
      "grid_auto_rows": null,
      "grid_column": null,
      "grid_gap": null,
      "grid_row": null,
      "grid_template_areas": null,
      "grid_template_columns": null,
      "grid_template_rows": null,
      "height": null,
      "justify_content": null,
      "justify_items": null,
      "left": null,
      "margin": null,
      "max_height": null,
      "max_width": null,
      "min_height": null,
      "min_width": null,
      "object_fit": null,
      "object_position": null,
      "order": null,
      "overflow": null,
      "overflow_x": null,
      "overflow_y": null,
      "padding": null,
      "right": null,
      "top": null,
      "visibility": null,
      "width": null
     }
    },
    "331468078968487b931fc5145fe2f136": {
     "model_module": "@jupyter-widgets/base",
     "model_module_version": "1.2.0",
     "model_name": "LayoutModel",
     "state": {
      "_model_module": "@jupyter-widgets/base",
      "_model_module_version": "1.2.0",
      "_model_name": "LayoutModel",
      "_view_count": null,
      "_view_module": "@jupyter-widgets/base",
      "_view_module_version": "1.2.0",
      "_view_name": "LayoutView",
      "align_content": null,
      "align_items": null,
      "align_self": null,
      "border": null,
      "bottom": null,
      "display": null,
      "flex": null,
      "flex_flow": null,
      "grid_area": null,
      "grid_auto_columns": null,
      "grid_auto_flow": null,
      "grid_auto_rows": null,
      "grid_column": null,
      "grid_gap": null,
      "grid_row": null,
      "grid_template_areas": null,
      "grid_template_columns": null,
      "grid_template_rows": null,
      "height": null,
      "justify_content": null,
      "justify_items": null,
      "left": null,
      "margin": null,
      "max_height": null,
      "max_width": null,
      "min_height": null,
      "min_width": null,
      "object_fit": null,
      "object_position": null,
      "order": null,
      "overflow": null,
      "overflow_x": null,
      "overflow_y": null,
      "padding": null,
      "right": null,
      "top": null,
      "visibility": null,
      "width": null
     }
    },
    "45e0d34e6cfb463087d52c67f23bd686": {
     "model_module": "@jupyter-widgets/controls",
     "model_module_version": "1.5.0",
     "model_name": "HTMLModel",
     "state": {
      "_dom_classes": [],
      "_model_module": "@jupyter-widgets/controls",
      "_model_module_version": "1.5.0",
      "_model_name": "HTMLModel",
      "_view_count": null,
      "_view_module": "@jupyter-widgets/controls",
      "_view_module_version": "1.5.0",
      "_view_name": "HTMLView",
      "description": "",
      "description_tooltip": null,
      "layout": "IPY_MODEL_331468078968487b931fc5145fe2f136",
      "placeholder": "​",
      "style": "IPY_MODEL_6594a32a2b084b4d9428af3654c3b0d7",
      "value": "Map: 100%"
     }
    },
    "4b51c5338d504a3aa2ae2c35b973c985": {
     "model_module": "@jupyter-widgets/controls",
     "model_module_version": "1.5.0",
     "model_name": "HTMLModel",
     "state": {
      "_dom_classes": [],
      "_model_module": "@jupyter-widgets/controls",
      "_model_module_version": "1.5.0",
      "_model_name": "HTMLModel",
      "_view_count": null,
      "_view_module": "@jupyter-widgets/controls",
      "_view_module_version": "1.5.0",
      "_view_name": "HTMLView",
      "description": "",
      "description_tooltip": null,
      "layout": "IPY_MODEL_ca2ddd68106e4319b43105e4e7e41fd4",
      "placeholder": "​",
      "style": "IPY_MODEL_91c76363fccd468081922ca28432f5b9",
      "value": " 1000/1000 [00:00&lt;00:00, 1415.03 examples/s]"
     }
    },
    "5589b5cb98cb495882f6c1ff265d6f7b": {
     "model_module": "@jupyter-widgets/controls",
     "model_module_version": "1.5.0",
     "model_name": "HBoxModel",
     "state": {
      "_dom_classes": [],
      "_model_module": "@jupyter-widgets/controls",
      "_model_module_version": "1.5.0",
      "_model_name": "HBoxModel",
      "_view_count": null,
      "_view_module": "@jupyter-widgets/controls",
      "_view_module_version": "1.5.0",
      "_view_name": "HBoxView",
      "box_style": "",
      "children": [
       "IPY_MODEL_45e0d34e6cfb463087d52c67f23bd686",
       "IPY_MODEL_d4ef73a65f4b419b98e5aa9ea8e0acd8",
       "IPY_MODEL_b598c555b4744cc9a60a8efc7d8e685c"
      ],
      "layout": "IPY_MODEL_1ceda5578c834d73b9e2a11ea6c3ac3b"
     }
    },
    "61e3acdb3e7e4823acdadf74f5dbd540": {
     "model_module": "@jupyter-widgets/controls",
     "model_module_version": "1.5.0",
     "model_name": "ProgressStyleModel",
     "state": {
      "_model_module": "@jupyter-widgets/controls",
      "_model_module_version": "1.5.0",
      "_model_name": "ProgressStyleModel",
      "_view_count": null,
      "_view_module": "@jupyter-widgets/base",
      "_view_module_version": "1.2.0",
      "_view_name": "StyleView",
      "bar_color": null,
      "description_width": ""
     }
    },
    "6594a32a2b084b4d9428af3654c3b0d7": {
     "model_module": "@jupyter-widgets/controls",
     "model_module_version": "1.5.0",
     "model_name": "DescriptionStyleModel",
     "state": {
      "_model_module": "@jupyter-widgets/controls",
      "_model_module_version": "1.5.0",
      "_model_name": "DescriptionStyleModel",
      "_view_count": null,
      "_view_module": "@jupyter-widgets/base",
      "_view_module_version": "1.2.0",
      "_view_name": "StyleView",
      "description_width": ""
     }
    },
    "84446de4a14a484588c4cc7728d018c3": {
     "model_module": "@jupyter-widgets/controls",
     "model_module_version": "1.5.0",
     "model_name": "FloatProgressModel",
     "state": {
      "_dom_classes": [],
      "_model_module": "@jupyter-widgets/controls",
      "_model_module_version": "1.5.0",
      "_model_name": "FloatProgressModel",
      "_view_count": null,
      "_view_module": "@jupyter-widgets/controls",
      "_view_module_version": "1.5.0",
      "_view_name": "ProgressView",
      "bar_style": "success",
      "description": "",
      "description_tooltip": null,
      "layout": "IPY_MODEL_1f45fe6fe0ff49bba595bded6dc890be",
      "max": 1000,
      "min": 0,
      "orientation": "horizontal",
      "style": "IPY_MODEL_e0b03b537d7f465cb6c4a07187d27597",
      "value": 1000
     }
    },
    "91c76363fccd468081922ca28432f5b9": {
     "model_module": "@jupyter-widgets/controls",
     "model_module_version": "1.5.0",
     "model_name": "DescriptionStyleModel",
     "state": {
      "_model_module": "@jupyter-widgets/controls",
      "_model_module_version": "1.5.0",
      "_model_name": "DescriptionStyleModel",
      "_view_count": null,
      "_view_module": "@jupyter-widgets/base",
      "_view_module_version": "1.2.0",
      "_view_name": "StyleView",
      "description_width": ""
     }
    },
    "a1f190bbec324b339c9abfb49260042e": {
     "model_module": "@jupyter-widgets/base",
     "model_module_version": "1.2.0",
     "model_name": "LayoutModel",
     "state": {
      "_model_module": "@jupyter-widgets/base",
      "_model_module_version": "1.2.0",
      "_model_name": "LayoutModel",
      "_view_count": null,
      "_view_module": "@jupyter-widgets/base",
      "_view_module_version": "1.2.0",
      "_view_name": "LayoutView",
      "align_content": null,
      "align_items": null,
      "align_self": null,
      "border": null,
      "bottom": null,
      "display": null,
      "flex": null,
      "flex_flow": null,
      "grid_area": null,
      "grid_auto_columns": null,
      "grid_auto_flow": null,
      "grid_auto_rows": null,
      "grid_column": null,
      "grid_gap": null,
      "grid_row": null,
      "grid_template_areas": null,
      "grid_template_columns": null,
      "grid_template_rows": null,
      "height": null,
      "justify_content": null,
      "justify_items": null,
      "left": null,
      "margin": null,
      "max_height": null,
      "max_width": null,
      "min_height": null,
      "min_width": null,
      "object_fit": null,
      "object_position": null,
      "order": null,
      "overflow": null,
      "overflow_x": null,
      "overflow_y": null,
      "padding": null,
      "right": null,
      "top": null,
      "visibility": null,
      "width": null
     }
    },
    "afebcf1759694f6fb07f39fef5207ac3": {
     "model_module": "@jupyter-widgets/base",
     "model_module_version": "1.2.0",
     "model_name": "LayoutModel",
     "state": {
      "_model_module": "@jupyter-widgets/base",
      "_model_module_version": "1.2.0",
      "_model_name": "LayoutModel",
      "_view_count": null,
      "_view_module": "@jupyter-widgets/base",
      "_view_module_version": "1.2.0",
      "_view_name": "LayoutView",
      "align_content": null,
      "align_items": null,
      "align_self": null,
      "border": null,
      "bottom": null,
      "display": null,
      "flex": null,
      "flex_flow": null,
      "grid_area": null,
      "grid_auto_columns": null,
      "grid_auto_flow": null,
      "grid_auto_rows": null,
      "grid_column": null,
      "grid_gap": null,
      "grid_row": null,
      "grid_template_areas": null,
      "grid_template_columns": null,
      "grid_template_rows": null,
      "height": null,
      "justify_content": null,
      "justify_items": null,
      "left": null,
      "margin": null,
      "max_height": null,
      "max_width": null,
      "min_height": null,
      "min_width": null,
      "object_fit": null,
      "object_position": null,
      "order": null,
      "overflow": null,
      "overflow_x": null,
      "overflow_y": null,
      "padding": null,
      "right": null,
      "top": null,
      "visibility": null,
      "width": null
     }
    },
    "b598c555b4744cc9a60a8efc7d8e685c": {
     "model_module": "@jupyter-widgets/controls",
     "model_module_version": "1.5.0",
     "model_name": "HTMLModel",
     "state": {
      "_dom_classes": [],
      "_model_module": "@jupyter-widgets/controls",
      "_model_module_version": "1.5.0",
      "_model_name": "HTMLModel",
      "_view_count": null,
      "_view_module": "@jupyter-widgets/controls",
      "_view_module_version": "1.5.0",
      "_view_name": "HTMLView",
      "description": "",
      "description_tooltip": null,
      "layout": "IPY_MODEL_a1f190bbec324b339c9abfb49260042e",
      "placeholder": "​",
      "style": "IPY_MODEL_c1ccecfef77c4be3a9c7bf56527fb75f",
      "value": " 1000/1000 [00:00&lt;00:00, 1310.57 examples/s]"
     }
    },
    "b861dbfa17e54e1db6563dd8537406d3": {
     "model_module": "@jupyter-widgets/base",
     "model_module_version": "1.2.0",
     "model_name": "LayoutModel",
     "state": {
      "_model_module": "@jupyter-widgets/base",
      "_model_module_version": "1.2.0",
      "_model_name": "LayoutModel",
      "_view_count": null,
      "_view_module": "@jupyter-widgets/base",
      "_view_module_version": "1.2.0",
      "_view_name": "LayoutView",
      "align_content": null,
      "align_items": null,
      "align_self": null,
      "border": null,
      "bottom": null,
      "display": null,
      "flex": null,
      "flex_flow": null,
      "grid_area": null,
      "grid_auto_columns": null,
      "grid_auto_flow": null,
      "grid_auto_rows": null,
      "grid_column": null,
      "grid_gap": null,
      "grid_row": null,
      "grid_template_areas": null,
      "grid_template_columns": null,
      "grid_template_rows": null,
      "height": null,
      "justify_content": null,
      "justify_items": null,
      "left": null,
      "margin": null,
      "max_height": null,
      "max_width": null,
      "min_height": null,
      "min_width": null,
      "object_fit": null,
      "object_position": null,
      "order": null,
      "overflow": null,
      "overflow_x": null,
      "overflow_y": null,
      "padding": null,
      "right": null,
      "top": null,
      "visibility": null,
      "width": null
     }
    },
    "c1ccecfef77c4be3a9c7bf56527fb75f": {
     "model_module": "@jupyter-widgets/controls",
     "model_module_version": "1.5.0",
     "model_name": "DescriptionStyleModel",
     "state": {
      "_model_module": "@jupyter-widgets/controls",
      "_model_module_version": "1.5.0",
      "_model_name": "DescriptionStyleModel",
      "_view_count": null,
      "_view_module": "@jupyter-widgets/base",
      "_view_module_version": "1.2.0",
      "_view_name": "StyleView",
      "description_width": ""
     }
    },
    "ca2ddd68106e4319b43105e4e7e41fd4": {
     "model_module": "@jupyter-widgets/base",
     "model_module_version": "1.2.0",
     "model_name": "LayoutModel",
     "state": {
      "_model_module": "@jupyter-widgets/base",
      "_model_module_version": "1.2.0",
      "_model_name": "LayoutModel",
      "_view_count": null,
      "_view_module": "@jupyter-widgets/base",
      "_view_module_version": "1.2.0",
      "_view_name": "LayoutView",
      "align_content": null,
      "align_items": null,
      "align_self": null,
      "border": null,
      "bottom": null,
      "display": null,
      "flex": null,
      "flex_flow": null,
      "grid_area": null,
      "grid_auto_columns": null,
      "grid_auto_flow": null,
      "grid_auto_rows": null,
      "grid_column": null,
      "grid_gap": null,
      "grid_row": null,
      "grid_template_areas": null,
      "grid_template_columns": null,
      "grid_template_rows": null,
      "height": null,
      "justify_content": null,
      "justify_items": null,
      "left": null,
      "margin": null,
      "max_height": null,
      "max_width": null,
      "min_height": null,
      "min_width": null,
      "object_fit": null,
      "object_position": null,
      "order": null,
      "overflow": null,
      "overflow_x": null,
      "overflow_y": null,
      "padding": null,
      "right": null,
      "top": null,
      "visibility": null,
      "width": null
     }
    },
    "d4ef73a65f4b419b98e5aa9ea8e0acd8": {
     "model_module": "@jupyter-widgets/controls",
     "model_module_version": "1.5.0",
     "model_name": "FloatProgressModel",
     "state": {
      "_dom_classes": [],
      "_model_module": "@jupyter-widgets/controls",
      "_model_module_version": "1.5.0",
      "_model_name": "FloatProgressModel",
      "_view_count": null,
      "_view_module": "@jupyter-widgets/controls",
      "_view_module_version": "1.5.0",
      "_view_name": "ProgressView",
      "bar_style": "success",
      "description": "",
      "description_tooltip": null,
      "layout": "IPY_MODEL_afebcf1759694f6fb07f39fef5207ac3",
      "max": 1000,
      "min": 0,
      "orientation": "horizontal",
      "style": "IPY_MODEL_61e3acdb3e7e4823acdadf74f5dbd540",
      "value": 1000
     }
    },
    "e0b03b537d7f465cb6c4a07187d27597": {
     "model_module": "@jupyter-widgets/controls",
     "model_module_version": "1.5.0",
     "model_name": "ProgressStyleModel",
     "state": {
      "_model_module": "@jupyter-widgets/controls",
      "_model_module_version": "1.5.0",
      "_model_name": "ProgressStyleModel",
      "_view_count": null,
      "_view_module": "@jupyter-widgets/base",
      "_view_module_version": "1.2.0",
      "_view_name": "StyleView",
      "bar_color": null,
      "description_width": ""
     }
    },
    "e75f691e8d4a4506a59463cd3533707e": {
     "model_module": "@jupyter-widgets/controls",
     "model_module_version": "1.5.0",
     "model_name": "HTMLModel",
     "state": {
      "_dom_classes": [],
      "_model_module": "@jupyter-widgets/controls",
      "_model_module_version": "1.5.0",
      "_model_name": "HTMLModel",
      "_view_count": null,
      "_view_module": "@jupyter-widgets/controls",
      "_view_module_version": "1.5.0",
      "_view_name": "HTMLView",
      "description": "",
      "description_tooltip": null,
      "layout": "IPY_MODEL_02dede42abe34e08b3657f662b5fa2e5",
      "placeholder": "​",
      "style": "IPY_MODEL_ff923b7ee8de445a873cc9e78cad8807",
      "value": "Map: 100%"
     }
    },
    "ee6209b157b246ba9610ac34121b1eee": {
     "model_module": "@jupyter-widgets/controls",
     "model_module_version": "1.5.0",
     "model_name": "HBoxModel",
     "state": {
      "_dom_classes": [],
      "_model_module": "@jupyter-widgets/controls",
      "_model_module_version": "1.5.0",
      "_model_name": "HBoxModel",
      "_view_count": null,
      "_view_module": "@jupyter-widgets/controls",
      "_view_module_version": "1.5.0",
      "_view_name": "HBoxView",
      "box_style": "",
      "children": [
       "IPY_MODEL_e75f691e8d4a4506a59463cd3533707e",
       "IPY_MODEL_84446de4a14a484588c4cc7728d018c3",
       "IPY_MODEL_4b51c5338d504a3aa2ae2c35b973c985"
      ],
      "layout": "IPY_MODEL_b861dbfa17e54e1db6563dd8537406d3"
     }
    },
    "ff923b7ee8de445a873cc9e78cad8807": {
     "model_module": "@jupyter-widgets/controls",
     "model_module_version": "1.5.0",
     "model_name": "DescriptionStyleModel",
     "state": {
      "_model_module": "@jupyter-widgets/controls",
      "_model_module_version": "1.5.0",
      "_model_name": "DescriptionStyleModel",
      "_view_count": null,
      "_view_module": "@jupyter-widgets/base",
      "_view_module_version": "1.2.0",
      "_view_name": "StyleView",
      "description_width": ""
     }
    }
   }
  }
 },
 "nbformat": 4,
 "nbformat_minor": 0
}
